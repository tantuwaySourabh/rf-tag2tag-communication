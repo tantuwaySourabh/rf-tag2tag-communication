{
 "cells": [
  {
   "cell_type": "code",
   "execution_count": null,
   "id": "013e30c4",
   "metadata": {},
   "outputs": [],
   "source": [
    "import pandas as pd\n",
    "import numpy as np\n",
    "\n",
    "num_points = 20\n",
    "radius = 8.00"
   ]
  },
  {
   "cell_type": "code",
   "execution_count": null,
   "id": "bf8584b4",
   "metadata": {},
   "outputs": [],
   "source": [
    "import matplotlib.pyplot as plt\n",
    "import random\n",
    "\n",
    "\n",
    "# scenario 1\n",
    "x_coords = [15, 11, -8, -11, 8 , -11, -3, -5, 15, -9, -1, -5, 13, -3, 4, -5, -4,  2,  5, 6 ]\n",
    "y_coords = [9,  6, -14, -10, -1, -6 , 0 , -5, -6, 1 , 8 , 11, 0, 15, 12, 8,  5, -1, -5, -11]\n",
    "\n",
    "\n",
    "# # scenario 2 (CASE A) node 11, 16 and 20 moves\n",
    "# x_coords = [15, 11, -8, -11, 8 , -11, -3, -5, 15, -9, 5, -5, 13, -3,  4,   0, -4,  2,  5,  -4]\n",
    "# y_coords = [9,  6, -14, -10, -1, -6 , 0 , -5, -6, 1 , 5 , 11,  0, 15, 12, -5,  5, -1, -5, -10]\n",
    "\n",
    "# # CASE B.   node 1, 4 and 7 moves\n",
    "# x_coords = [10, 11,  -8,  -5,  8, -11,  0, -5, 15, -9, -1, -5, 13, -3,  4, -5, -4,  2,  5,   6]\n",
    "# y_coords = [-5,  6, -14, -10, -1, -6 ,-10, -5, -6, 1 , 8 , 11,  0, 15, 12,  8,  5, -1, -5, -11]\n",
    "\n",
    "\n",
    "\n",
    "\n",
    "point_labels = [f\"P{i + 1}\" for i in range(num_points)]\n"
   ]
  },
  {
   "cell_type": "code",
   "execution_count": null,
   "id": "2b274b52",
   "metadata": {},
   "outputs": [],
   "source": [
    "import pandas as pd\n",
    "from scipy.spatial.distance import pdist, squareform\n",
    "\n",
    "points = [(x_coords[i], y_coords[i]) for i in range(num_points)]\n",
    "\n",
    "distances = pdist(points)\n",
    "\n",
    "dist_matrix = squareform(distances)\n",
    "\n",
    "dist_matrix = pd.DataFrame(dist_matrix, columns = point_labels, index = point_labels)\n",
    "\n",
    "\n",
    "dist_matrix"
   ]
  },
  {
   "cell_type": "code",
   "execution_count": null,
   "id": "2c382e97",
   "metadata": {},
   "outputs": [],
   "source": [
    "neighbor_table = dist_matrix\n",
    "neighbor_table = neighbor_table.applymap(lambda x : 1000000 if x > radius else 1)\n",
    "\n",
    "for i in range(num_points):\n",
    "    neighbor_table.at[f\"P{i + 1}\", f\"P{i + 1}\"] = 0\n",
    "    \n",
    "neighbor_table"
   ]
  },
  {
   "cell_type": "code",
   "execution_count": null,
   "id": "38da9683",
   "metadata": {},
   "outputs": [],
   "source": [
    "import random\n",
    "\n",
    "\n",
    "# function to select 60% of nodes requesting to transmit their messages.\n",
    "def select_nodes():\n",
    "    nodes = [random.uniform(0,1) for _ in range(num_points + 1)]\n",
    "    \n",
    "    nodes = [0 if v < 0.4 else 1 for v in nodes]\n",
    "    \n",
    "    nodes[0] = 0  #X[0] is default 0 to make 1-based indexing\n",
    "    \n",
    "    return nodes"
   ]
  },
  {
   "cell_type": "code",
   "execution_count": null,
   "id": "49720112",
   "metadata": {},
   "outputs": [],
   "source": [
    "import numpy as np\n",
    "\n",
    "selected = select_nodes()      # testing the function\n",
    "print(selected)\n",
    "\n",
    "# dest = [0 for i in range (num_points + 1)]\n",
    "# print(dest)\n",
    "    \n",
    "# selected_nodes = [i for i, x in enumerate(X_vec) if x == 1]\n",
    "# print(selected_nodes)\n",
    "\n",
    "# node = 0\n",
    "\n",
    "# neighbors = np.array(neighbor_table.loc[f\"P{node}\"])\n",
    "# print(neighbors)"
   ]
  },
  {
   "cell_type": "code",
   "execution_count": null,
   "id": "4b3a883b",
   "metadata": {},
   "outputs": [],
   "source": [
    "import numpy as np\n",
    "\n",
    "# function to select destination nodes, for the nodes which want to transmit\n",
    "def select_destinations(X_vec):\n",
    "    \n",
    "    dest = [0 for i in range (num_points + 1)]\n",
    "    \n",
    "    selected_nodes = [i for i, x in enumerate(X_vec) if x == 1]\n",
    "    \n",
    "    \n",
    "    for node in selected_nodes:\n",
    "        neighbors = np.array(neighbor_table.loc[f\"P{node}\"])\n",
    "        neighbor_indices = np.where(neighbors == 1)[0]\n",
    "        if len(neighbor_indices) > 0:\n",
    "            random_neighbor = np.random.choice(neighbor_indices) + 1\n",
    "            dest[node] = random_neighbor\n",
    "        else:\n",
    "            pass\n",
    "        \n",
    "        \n",
    "    return dest"
   ]
  },
  {
   "cell_type": "code",
   "execution_count": null,
   "id": "a6b7294a",
   "metadata": {},
   "outputs": [],
   "source": [
    "destinations = select_destinations(selected)  #testing the function\n",
    "print(destinations)\n",
    "\n",
    "# temp_indexes = [i for i, num in enumerate(destinations) if num > 0]\n",
    "# print(temp_indexes)"
   ]
  },
  {
   "cell_type": "code",
   "execution_count": null,
   "id": "3cb328ec",
   "metadata": {},
   "outputs": [],
   "source": [
    "def define_c3(dst, neighbor):\n",
    "    constraint = []\n",
    "    \n",
    "    for i in range(len(dst)):\n",
    "        str = []\n",
    "        \n",
    "        if(dst[i] > 0): \n",
    "            ind = dst[i]\n",
    "            \n",
    "            str.append(ind)   #destination can't transmit also\n",
    "            \n",
    "            for j in range(num_points):\n",
    "                if(neighbor[f\"P{ind}\"][f\"P{j + 1}\"] == 1 and j != i - 1):\n",
    "                    str.append(j + 1)\n",
    "                    \n",
    "            constraint.append(str)\n",
    "            \n",
    "        else:\n",
    "            constraint.append('')\n",
    "        \n",
    "    return  constraint\n"
   ]
  },
  {
   "cell_type": "code",
   "execution_count": null,
   "id": "a879dc83",
   "metadata": {},
   "outputs": [],
   "source": [
    "C3 = define_c3(destinations, neighbor_table)\n",
    "C3"
   ]
  },
  {
   "cell_type": "code",
   "execution_count": null,
   "id": "5f7e8cb9",
   "metadata": {},
   "outputs": [],
   "source": [
    "import sys\n",
    "import itertools\n",
    "\n",
    "def solve_instance(d, c):          #updated the parameters\n",
    "    \n",
    "    indexes = [i for i, num in enumerate(d) if num > 0]\n",
    "    combinations = []\n",
    "    result = None\n",
    "    unique_combinations = []\n",
    "    \n",
    "      \n",
    "    for size in range(len(indexes), 0, -1):\n",
    "        #genetating all combination such that any 1 node finally transmits , or 2 nodes and so on.\n",
    "        #and these combinations will be checked if they satisfy the constraints\n",
    "        combinations = itertools.combinations(indexes, size)\n",
    "        \n",
    "               \n",
    "        for combination in combinations:\n",
    "            valid_comb = True\n",
    "            for elem in combination:          # EACH element of combination should satisfy the consrtaints\n",
    "                intersection = set(c[elem]).intersection(set(combination))\n",
    "                if(len(intersection) > 0):\n",
    "                    valid_comb = False\n",
    "                    break\n",
    "                              \n",
    "            \n",
    "            if(valid_comb):                            #for stopping the loop when valid combination found\n",
    "                result = combination\n",
    "                break  \n",
    "            \n",
    "                       \n",
    "        if(result != None and len(result) > 0):    #for stopping the loop when valid combination found\n",
    "            break\n",
    "                        \n",
    "                  \n",
    "    return list(result)\n",
    "       "
   ]
  },
  {
   "cell_type": "code",
   "execution_count": null,
   "id": "983568e5",
   "metadata": {},
   "outputs": [],
   "source": [
    "import numpy as np\n",
    "def generate_data(rows):\n",
    "    \n",
    "    #data = pd.DataFrame(columns=['Instance', 'Solution'], index=[i for i in range(rows)])\n",
    "    \n",
    "    data_X = []\n",
    "    data_y = []\n",
    "#     df.loc[0, 'X'] = X\n",
    "#     df.loc[0, 'Y'] = Y\n",
    "    \n",
    "    for i in range(rows):\n",
    "        X = select_nodes()\n",
    "        \n",
    "        print(i, end= \" \")\n",
    "        D = select_destinations(X)\n",
    "        #D = [0, 5, 0, 11, 16, 1, 2, 3, 13, 13, 14, 0, 15, 9, 0, 16, 14, 6, 4, 2, 11]\n",
    "        #print(f\" D is {D}\")\n",
    "        C3 = define_c3(D, neighbor_table)\n",
    "        #print(f\"C3  {C3}\")\n",
    "        \n",
    "        sol = solve_instance(D,C3)\n",
    "        #print(f\" sol is {sol}\")\n",
    "        \n",
    "        #data.at[i, 'Instance'] = make_dictionary(X, D) #for representing input as dictionary\n",
    "        \n",
    "        data_X.append(D[1:])\n",
    "        #data.at[i, 'Instance'] = D[1:]\n",
    "        \n",
    "        \n",
    "        y_var = [0 for i in range (num_points)]\n",
    "        \n",
    "        for j in sol:\n",
    "            y_var[j - 1] = 1\n",
    "            \n",
    "        data_y.append(y_var)\n",
    "        \n",
    "        #data.at[i, 'Solution'] = sol\n",
    "               \n",
    "    \n",
    "    x_var = np.array(data_X)\n",
    "    y_var = np.array(data_y)\n",
    "    \n",
    "    return x_var, y_var\n"
   ]
  },
  {
   "cell_type": "code",
   "execution_count": null,
   "id": "9ff830f9",
   "metadata": {},
   "outputs": [],
   "source": [
    "pd.set_option('display.max_colwidth', None)\n",
    "np.set_printoptions(threshold=np.inf)"
   ]
  },
  {
   "cell_type": "code",
   "execution_count": null,
   "id": "1c0a767c",
   "metadata": {
    "scrolled": true
   },
   "outputs": [],
   "source": [
    "# X_set_1, y_set_1 = generate_data(100000)\n",
    "\n",
    "X_set_1 = np.load('/Users/rob/Desktop/Semester data/Sem 4 S23/CS6340 Prof Haas/Volunteer Project/Incremental Learning/datasets/Example_1/X_set_1.npy')\n",
    "y_set_1 = np.load('/Users/rob/Desktop/Semester data/Sem 4 S23/CS6340 Prof Haas/Volunteer Project/Incremental Learning/datasets/Example_1/y_set_1.npy')"
   ]
  },
  {
   "cell_type": "code",
   "execution_count": null,
   "id": "080a3b53",
   "metadata": {
    "scrolled": true
   },
   "outputs": [],
   "source": [
    "# X_set_2A, y_set_2A = generate_data(100000)\n",
    "X_set_2A = np.load('/Users/rob/Desktop/Semester data/Sem 4 S23/CS6340 Prof Haas/Volunteer Project/Incremental Learning/datasets/Example_1/X_set_2A.npy')\n",
    "y_set_2A = np.load('/Users/rob/Desktop/Semester data/Sem 4 S23/CS6340 Prof Haas/Volunteer Project/Incremental Learning/datasets/Example_1/y_set_2A.npy')"
   ]
  },
  {
   "cell_type": "code",
   "execution_count": null,
   "id": "13aeee57",
   "metadata": {},
   "outputs": [],
   "source": [
    "# X_test_2A, y_test_2A = generate_data(50000)\n",
    "X_test_2A = np.load('/Users/rob/Desktop/Semester data/Sem 4 S23/CS6340 Prof Haas/Volunteer Project/Incremental Learning/datasets/Example_1/X_test_2A.npy')\n",
    "y_test_2A = np.load('/Users/rob/Desktop/Semester data/Sem 4 S23/CS6340 Prof Haas/Volunteer Project/Incremental Learning/datasets/Example_1/y_test_2A.npy')"
   ]
  },
  {
   "cell_type": "code",
   "execution_count": null,
   "id": "c10b6423",
   "metadata": {
    "scrolled": true
   },
   "outputs": [],
   "source": [
    "# X_set_2B, y_set_2B = generate_data(100000)"
   ]
  },
  {
   "cell_type": "code",
   "execution_count": null,
   "id": "47b59cdb",
   "metadata": {},
   "outputs": [],
   "source": [
    "# X_test_2B, y_test_2B = generate_data(50000)"
   ]
  },
  {
   "cell_type": "code",
   "execution_count": null,
   "id": "91f90337",
   "metadata": {},
   "outputs": [],
   "source": [
    "X_test_1 =  np.load('/Users/rob/Desktop/Semester data/Sem 4 S23/CS6340 Prof Haas/Volunteer Project/Incremental Learning/datasets/Example_1/X_test_1.npy')\n",
    "y_test_1 =  np.load('/Users/rob/Desktop/Semester data/Sem 4 S23/CS6340 Prof Haas/Volunteer Project/Incremental Learning/datasets/Example_1/y_test_1.npy')"
   ]
  },
  {
   "cell_type": "code",
   "execution_count": null,
   "id": "d8bbc693",
   "metadata": {},
   "outputs": [],
   "source": [
    "y_test_2A"
   ]
  },
  {
   "cell_type": "code",
   "execution_count": null,
   "id": "fefb60cd",
   "metadata": {},
   "outputs": [],
   "source": [
    "# np.save('X_set_1.npy', X_set_1)\n",
    "# np.save('y_set_1.npy', y_set_1)\n",
    "# np.save('X_test_1.npy', X_test_1)\n",
    "# np.save('y_test_1.npy', y_test_1)\n",
    "\n",
    "# np.save('X_set_2A.npy', X_set_2A)\n",
    "# np.save('y_set_2A.npy', y_set_2A)\n",
    "# np.save('X_test_2A.npy', X_test_2A)\n",
    "# np.save('y_test_2A.npy', y_test_2A)\n",
    "\n",
    "# np.save('X_set_2B.npy', X_set_2B)\n",
    "# np.save('y_set_2B.npy', y_set_2B)\n",
    "# np.save('X_test_2B.npy', X_test_2B)\n",
    "# np.save('y_test_2B.npy', y_test_2B)"
   ]
  },
  {
   "cell_type": "code",
   "execution_count": null,
   "id": "1df2ce23",
   "metadata": {},
   "outputs": [],
   "source": [
    "def accuracy_function(pred_solution, test_solution):\n",
    "    # Compare each pair of rows\n",
    "    elementwise_comparison = (pred_solution == test_solution)\n",
    "\n",
    "    # Count the number of equal elements in each pair\n",
    "    equal_counts = np.sum(elementwise_comparison, axis=1)\n",
    "\n",
    "#     print(\"Number of equal elements in each pair of rows:\")\n",
    "#     print(equal_counts)\n",
    "\n",
    "    average = np.sum(equal_counts, axis = 0) / (pred_solution.shape[0] * pred_solution.shape[1])\n",
    "    \n",
    "    return average\n",
    "  "
   ]
  },
  {
   "cell_type": "code",
   "execution_count": null,
   "id": "39fe7598",
   "metadata": {},
   "outputs": [],
   "source": [
    "# building the classifier.\n",
    "\n",
    "from sklearn.tree import DecisionTreeClassifier\n",
    "from sklearn.multioutput import MultiOutputClassifier\n",
    "from sklearn.model_selection import train_test_split\n",
    "\n",
    "# Define the classifier\n",
    "clf = MultiOutputClassifier(DecisionTreeClassifier(random_state=42, max_depth = 16, min_samples_leaf=4,\n",
    "                                                   min_samples_split = 16))\n",
    "\n",
    "# Train the classifier\n",
    "clf.fit(X_set_1, y_set_1)\n",
    "\n",
    "\n",
    "\n",
    "score = clf.score(X_set_1, y_set_1)\n",
    "print('Train Accuracy:', score)\n",
    "\n",
    "score = clf.score(X_test_1, y_test_1)\n",
    "print('Test Accuracy:', score)\n"
   ]
  },
  {
   "cell_type": "code",
   "execution_count": null,
   "id": "efe524f7",
   "metadata": {},
   "outputs": [],
   "source": [
    "# predictions over test set using the trained classifier\n",
    "y_pred_1 = clf.predict(X_test_1)\n",
    "\n",
    "# Printing the accuracy\n",
    "print(accuracy_function(y_pred_1, y_test_1))"
   ]
  },
  {
   "cell_type": "code",
   "execution_count": null,
   "id": "90b21d6a",
   "metadata": {},
   "outputs": [],
   "source": [
    "# predictions using classifier\n",
    "y_pred_1 = clf.predict(X_test_2A)\n",
    "# y_pred_1 = clf.predict(X_test_2B)\n",
    "y_pred_1"
   ]
  },
  {
   "cell_type": "code",
   "execution_count": null,
   "id": "63f81cd7",
   "metadata": {},
   "outputs": [],
   "source": [
    "clf = None"
   ]
  },
  {
   "cell_type": "markdown",
   "id": "1154864f",
   "metadata": {},
   "source": [
    "# training for scenario 2"
   ]
  },
  {
   "cell_type": "code",
   "execution_count": null,
   "id": "fddb9cfe",
   "metadata": {},
   "outputs": [],
   "source": [
    "# building the classifier.\n",
    "\n",
    "from sklearn.tree import DecisionTreeClassifier\n",
    "from sklearn.multioutput import MultiOutputClassifier\n",
    "from sklearn.model_selection import train_test_split\n",
    "\n",
    "# # Define the classifier\n",
    "# clf = MultiOutputClassifier(DecisionTreeClassifier(random_state=42, max_depth = 13,min_samples_leaf=9, min_samples_split =25,\n",
    "#                                                     ))\n",
    "\n",
    "# Define the classifier\n",
    "clf = MultiOutputClassifier(DecisionTreeClassifier(random_state=42, max_depth = 16,min_samples_leaf=4, \n",
    "                                                   min_samples_split =16,\n",
    "                                                    ))\n",
    "# Train the classifier\n",
    "clf.fit(X_set_2A, y_set_2A)\n",
    "\n",
    "\n",
    "score = clf.score(X_set_2A, y_set_2A)\n",
    "print('Test Accuracy:', score)\n",
    "score = clf.score(X_test_2A, y_test_2A)\n",
    "print('Test Accuracy:', score)\n",
    "\n",
    "\n",
    "# # building the classifier.\n",
    "\n",
    "# from sklearn.tree import DecisionTreeClassifier\n",
    "# from sklearn.multioutput import MultiOutputClassifier\n",
    "# from sklearn.model_selection import train_test_split\n",
    "\n",
    "# # # Define the classifier\n",
    "# # clf = MultiOutputClassifier(DecisionTreeClassifier(random_state=42, max_depth = 13,min_samples_leaf=9, min_samples_split =25,\n",
    "# #                                                     ))\n",
    "\n",
    "# # Define the classifier\n",
    "# clf = MultiOutputClassifier(DecisionTreeClassifier(random_state=42, max_depth = 16,min_samples_leaf=4, min_samples_split =16,\n",
    "#                                                     ))\n",
    "\n",
    "# # Train the classifier\n",
    "# clf.fit(X_set_2B, y_set_2B)\n",
    "\n",
    "# score = clf.score(X_set_2B, y_set_2B)\n",
    "# print('Test Accuracy:', score)\n",
    "# score = clf.score(X_test_2B, y_test_2B)\n",
    "# print('Test Accuracy:', score)"
   ]
  },
  {
   "cell_type": "code",
   "execution_count": null,
   "id": "88f1d956",
   "metadata": {},
   "outputs": [],
   "source": [
    "y_pred_2 = clf.predict(X_test_2A)\n",
    "print(accuracy_function(y_pred_2, y_test_2A))\n"
   ]
  },
  {
   "cell_type": "code",
   "execution_count": null,
   "id": "16811f97",
   "metadata": {},
   "outputs": [],
   "source": [
    "pd.set_option('display.max_colwidth', None)\n",
    "np.set_printoptions(threshold=np.inf)"
   ]
  },
  {
   "cell_type": "code",
   "execution_count": null,
   "id": "7768464b",
   "metadata": {},
   "outputs": [],
   "source": [
    "y_pred_1"
   ]
  },
  {
   "cell_type": "code",
   "execution_count": null,
   "id": "250af4f2",
   "metadata": {},
   "outputs": [],
   "source": [
    "y_pred_2"
   ]
  },
  {
   "cell_type": "code",
   "execution_count": null,
   "id": "c2344ec8",
   "metadata": {},
   "outputs": [],
   "source": [
    "y_test_2B"
   ]
  },
  {
   "cell_type": "code",
   "execution_count": null,
   "id": "482e0be3",
   "metadata": {},
   "outputs": [],
   "source": [
    "\n",
    "#  x3 = α∙x1+(1-α)∙ x2\n",
    "y_pred_3_1 = 0.1 * y_pred_1 + (1 - 0.1) * y_pred_2\n",
    "y_pred_3_2 = 0.2 * y_pred_1 + (1 - 0.2) * y_pred_2\n",
    "y_pred_3_3 = 0.3 * y_pred_1 + (1 - 0.3) * y_pred_2\n",
    "y_pred_3_4 = 0.4 * y_pred_1 + (1 - 0.3) * y_pred_2\n",
    "y_pred_3_5 = 0.5 * y_pred_1 + (1 - 0.5) * y_pred_2\n",
    "y_pred_3_6 = 0.6 * y_pred_1 + (1 - 0.6) * y_pred_2\n",
    "y_pred_3_7 = 0.7 * y_pred_1 + (1 - 0.7) * y_pred_2\n",
    "y_pred_3_8 = 0.8 * y_pred_1 + (1 - 0.8) * y_pred_2\n",
    "y_pred_3_9 = 0.9 * y_pred_1 + (1 - 0.9) * y_pred_2\n",
    "\n"
   ]
  },
  {
   "cell_type": "code",
   "execution_count": null,
   "id": "d7e0b924",
   "metadata": {},
   "outputs": [],
   "source": [
    "y_pred_3_1"
   ]
  },
  {
   "cell_type": "code",
   "execution_count": null,
   "id": "50130b39",
   "metadata": {},
   "outputs": [],
   "source": [
    "y_pred_3_2"
   ]
  },
  {
   "cell_type": "code",
   "execution_count": null,
   "id": "9c08bfed",
   "metadata": {},
   "outputs": [],
   "source": [
    "y_pred_3_3"
   ]
  },
  {
   "cell_type": "code",
   "execution_count": null,
   "id": "7941e05d",
   "metadata": {},
   "outputs": [],
   "source": [
    "# checking if value is greater than threshold 0.5\n",
    "y_pred_3_1 = np.where(y_pred_3_1 > 0.5, 1, 0)\n",
    "y_pred_3_2 = np.where(y_pred_3_2 > 0.5, 1, 0)\n",
    "y_pred_3_3 = np.where(y_pred_3_3 > 0.5, 1, 0)\n",
    "y_pred_3_4 = np.where(y_pred_3_4 > 0.5, 1, 0)\n",
    "y_pred_3_5 = np.where(y_pred_3_5 > 0.5, 1, 0)\n",
    "y_pred_3_6 = np.where(y_pred_3_6 > 0.5, 1, 0)\n",
    "y_pred_3_7 = np.where(y_pred_3_7 > 0.5, 1, 0)\n",
    "y_pred_3_8 = np.where(y_pred_3_8 > 0.5, 1, 0)\n",
    "y_pred_3_9 = np.where(y_pred_3_9 > 0.5, 1, 0)"
   ]
  },
  {
   "cell_type": "code",
   "execution_count": null,
   "id": "17de1873",
   "metadata": {},
   "outputs": [],
   "source": [
    "# accuracy_vec = []\n",
    "# accuracy_vec.append( accuracy_function(y_pred_3_1, y_test_2A) )\n",
    "# accuracy_vec.append( accuracy_function(y_pred_3_2, y_test_2A) )\n",
    "# accuracy_vec.append( accuracy_function(y_pred_3_3, y_test_2A) )\n",
    "# accuracy_vec.append( accuracy_function(y_pred_3_4, y_test_2A) )\n",
    "# accuracy_vec.append( accuracy_function(y_pred_3_5, y_test_2A) )\n",
    "# accuracy_vec.append( accuracy_function(y_pred_3_6, y_test_2A) )\n",
    "# accuracy_vec.append( accuracy_function(y_pred_3_7, y_test_2A) )\n",
    "# accuracy_vec.append( accuracy_function(y_pred_3_8, y_test_2A) )\n",
    "# accuracy_vec.append( accuracy_function(y_pred_3_9, y_test_2A) )\n",
    "# accuracy_vec\n",
    "\n",
    "accuracy_vec = []\n",
    "accuracy_vec.append( accuracy_function(y_pred_3_1, y_test_2B) )\n",
    "accuracy_vec.append( accuracy_function(y_pred_3_2, y_test_2B) )\n",
    "accuracy_vec.append( accuracy_function(y_pred_3_3, y_test_2B) )\n",
    "accuracy_vec.append( accuracy_function(y_pred_3_4, y_test_2B) )\n",
    "accuracy_vec.append( accuracy_function(y_pred_3_5, y_test_2B) )\n",
    "accuracy_vec.append( accuracy_function(y_pred_3_6, y_test_2B) )\n",
    "accuracy_vec.append( accuracy_function(y_pred_3_7, y_test_2B) )\n",
    "accuracy_vec.append( accuracy_function(y_pred_3_8, y_test_2B) )\n",
    "accuracy_vec.append( accuracy_function(y_pred_3_9, y_test_2B) )\n",
    "accuracy_vec"
   ]
  },
  {
   "cell_type": "code",
   "execution_count": null,
   "id": "2ee07ac4",
   "metadata": {},
   "outputs": [],
   "source": [
    "import matplotlib.pyplot as plt\n",
    "\n",
    "alpha_vec = [0.1, 0.2, 0.3, 0.4, 0.5, 0.6, 0.7, 0.8,  0.9]\n",
    "\n",
    "plt.plot(alpha_vec, accuracy_vec, marker='o')\n",
    "\n",
    "# Adding labels and title\n",
    "plt.xlabel('alpha')\n",
    "plt.ylabel('Test Accuracy')\n",
    "plt.title('Test Accuracy vs. alpha values')\n",
    "\n",
    "# Display the plot\n",
    "plt.show()"
   ]
  },
  {
   "cell_type": "code",
   "execution_count": null,
   "id": "b6c98812",
   "metadata": {},
   "outputs": [],
   "source": []
  }
 ],
 "metadata": {
  "kernelspec": {
   "display_name": "Python 3 (ipykernel)",
   "language": "python",
   "name": "python3"
  },
  "language_info": {
   "codemirror_mode": {
    "name": "ipython",
    "version": 3
   },
   "file_extension": ".py",
   "mimetype": "text/x-python",
   "name": "python",
   "nbconvert_exporter": "python",
   "pygments_lexer": "ipython3",
   "version": "3.9.13"
  }
 },
 "nbformat": 4,
 "nbformat_minor": 5
}
