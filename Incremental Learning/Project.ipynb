{
 "cells": [
  {
   "cell_type": "markdown",
   "id": "ddf31ded",
   "metadata": {},
   "source": [
    "install scikit-Multiflow library for incremental learning"
   ]
  },
  {
   "cell_type": "code",
   "execution_count": 1,
   "id": "57c041de",
   "metadata": {},
   "outputs": [
    {
     "name": "stdout",
     "output_type": "stream",
     "text": [
      "Collecting git+https://github.com/scikit-multiflow/scikit-multiflow\n",
      "  Cloning https://github.com/scikit-multiflow/scikit-multiflow to /private/var/folders/0r/7rbxsj2j3xn_ygx_6q1w9b5r0000gn/T/pip-req-build-0aloirnm\n",
      "  Running command git clone --filter=blob:none --quiet https://github.com/scikit-multiflow/scikit-multiflow /private/var/folders/0r/7rbxsj2j3xn_ygx_6q1w9b5r0000gn/T/pip-req-build-0aloirnm\n",
      "  Resolved https://github.com/scikit-multiflow/scikit-multiflow to commit d073a706b5006cba2584761286b7fa17e74e87be\n",
      "  Preparing metadata (setup.py) ... \u001b[?25ldone\n",
      "\u001b[?25hRequirement already satisfied: sortedcontainers>=1.5.7 in /Users/rob/opt/anaconda3/lib/python3.9/site-packages (from scikit-multiflow==0.6.dev0) (2.4.0)\n",
      "Requirement already satisfied: numpy>=1.14.0 in /Users/rob/opt/anaconda3/lib/python3.9/site-packages (from scikit-multiflow==0.6.dev0) (1.19.5)\n",
      "Requirement already satisfied: scipy>=1.0.0 in /Users/rob/opt/anaconda3/lib/python3.9/site-packages (from scikit-multiflow==0.6.dev0) (1.9.1)\n",
      "Requirement already satisfied: matplotlib>=2.0.0 in /Users/rob/opt/anaconda3/lib/python3.9/site-packages (from scikit-multiflow==0.6.dev0) (3.5.2)\n",
      "Requirement already satisfied: scikit-learn>=0.20 in /Users/rob/opt/anaconda3/lib/python3.9/site-packages (from scikit-multiflow==0.6.dev0) (1.0.2)\n",
      "Requirement already satisfied: pandas>=0.25.3 in /Users/rob/opt/anaconda3/lib/python3.9/site-packages (from scikit-multiflow==0.6.dev0) (1.4.4)\n",
      "Requirement already satisfied: pyparsing>=2.2.1 in /Users/rob/opt/anaconda3/lib/python3.9/site-packages (from matplotlib>=2.0.0->scikit-multiflow==0.6.dev0) (3.0.8)\n",
      "Requirement already satisfied: fonttools>=4.22.0 in /Users/rob/opt/anaconda3/lib/python3.9/site-packages (from matplotlib>=2.0.0->scikit-multiflow==0.6.dev0) (4.25.0)\n",
      "Requirement already satisfied: kiwisolver>=1.0.1 in /Users/rob/opt/anaconda3/lib/python3.9/site-packages (from matplotlib>=2.0.0->scikit-multiflow==0.6.dev0) (1.4.2)\n",
      "Requirement already satisfied: packaging>=20.0 in /Users/rob/opt/anaconda3/lib/python3.9/site-packages (from matplotlib>=2.0.0->scikit-multiflow==0.6.dev0) (21.3)\n",
      "Requirement already satisfied: pillow>=6.2.0 in /Users/rob/opt/anaconda3/lib/python3.9/site-packages (from matplotlib>=2.0.0->scikit-multiflow==0.6.dev0) (9.5.0)\n",
      "Requirement already satisfied: cycler>=0.10 in /Users/rob/opt/anaconda3/lib/python3.9/site-packages (from matplotlib>=2.0.0->scikit-multiflow==0.6.dev0) (0.11.0)\n",
      "Requirement already satisfied: python-dateutil>=2.7 in /Users/rob/opt/anaconda3/lib/python3.9/site-packages (from matplotlib>=2.0.0->scikit-multiflow==0.6.dev0) (2.8.2)\n",
      "Requirement already satisfied: pytz>=2020.1 in /Users/rob/opt/anaconda3/lib/python3.9/site-packages (from pandas>=0.25.3->scikit-multiflow==0.6.dev0) (2022.1)\n",
      "Requirement already satisfied: joblib>=0.11 in /Users/rob/opt/anaconda3/lib/python3.9/site-packages (from scikit-learn>=0.20->scikit-multiflow==0.6.dev0) (1.1.0)\n",
      "Requirement already satisfied: threadpoolctl>=2.0.0 in /Users/rob/opt/anaconda3/lib/python3.9/site-packages (from scikit-learn>=0.20->scikit-multiflow==0.6.dev0) (2.2.0)\n",
      "Requirement already satisfied: six>=1.5 in /Users/rob/opt/anaconda3/lib/python3.9/site-packages (from python-dateutil>=2.7->matplotlib>=2.0.0->scikit-multiflow==0.6.dev0) (1.15.0)\n",
      "Building wheels for collected packages: scikit-multiflow\n",
      "  Building wheel for scikit-multiflow (setup.py) ... \u001b[?25ldone\n",
      "\u001b[?25h  Created wheel for scikit-multiflow: filename=scikit_multiflow-0.6.dev0-cp39-cp39-macosx_13_0_x86_64.whl size=507912 sha256=f7e6899c15401ad0622f1b3e893e538bb99a3be3d5341313722ac75a95f4da01\n",
      "  Stored in directory: /private/var/folders/0r/7rbxsj2j3xn_ygx_6q1w9b5r0000gn/T/pip-ephem-wheel-cache-xunnpt7m/wheels/5a/04/72/1a42ec39dbeeffefe263284c37dfd644718c13ad0e63f69ac6\n",
      "Successfully built scikit-multiflow\n",
      "Installing collected packages: scikit-multiflow\n",
      "Successfully installed scikit-multiflow-0.6.dev0\n"
     ]
    }
   ],
   "source": [
    "!pip install -U git+https://github.com/scikit-multiflow/scikit-multiflow"
   ]
  },
  {
   "cell_type": "code",
   "execution_count": 8,
   "id": "f597458d",
   "metadata": {},
   "outputs": [
    {
     "name": "stdout",
     "output_type": "stream",
     "text": [
      "200 samples analyzed.\n",
      "Hoeffding Tree accuracy: 0.945\n"
     ]
    }
   ],
   "source": [
    "# Imports\n",
    "from skmultiflow.data import SEAGenerator\n",
    "from skmultiflow.trees import HoeffdingTreeClassifier\n",
    "# Setting up a data stream\n",
    "stream = SEAGenerator(random_state=1)\n",
    "# Setup Hoeffding Tree estimator\n",
    "ht = HoeffdingTreeClassifier()\n",
    "# Setup variables to control loop and track performance\n",
    "n_samples = 0\n",
    "correct_cnt = 0\n",
    "max_samples = 200\n",
    "# Train the estimator with the samples provided by the data stream\n",
    "while n_samples < max_samples and stream.has_more_samples():\n",
    "    X, y = stream.next_sample()\n",
    "    y_pred = ht.predict(X)\n",
    "    if y[0] == y_pred[0]:\n",
    "        correct_cnt += 1\n",
    "    ht = ht.partial_fit(X, y)\n",
    "    n_samples += 1\n",
    "# Display results\n",
    "print('{} samples analyzed.'.format(n_samples))\n",
    "print('Hoeffding Tree accuracy: {}'.format(correct_cnt / n_samples))\n"
   ]
  },
  {
   "cell_type": "code",
   "execution_count": 11,
   "id": "d1afb43d",
   "metadata": {},
   "outputs": [
    {
     "name": "stdout",
     "output_type": "stream",
     "text": [
      "SEAGenerator(balance_classes=False, classification_function=0,\n",
      "             noise_percentage=0.0, random_state=1)\n"
     ]
    }
   ],
   "source": [
    "stream = SEAGenerator(random_state=1)\n",
    "print(stream)"
   ]
  },
  {
   "cell_type": "code",
   "execution_count": 17,
   "id": "f3c53480",
   "metadata": {},
   "outputs": [
    {
     "data": {
      "text/plain": [
       "(array([[3.75057129, 6.4030462 , 9.50016579]]), array([0]))"
      ]
     },
     "execution_count": 17,
     "metadata": {},
     "output_type": "execute_result"
    }
   ],
   "source": [
    "# Imports\n",
    "from skmultiflow.data.sea_generator import SEAGenerator\n",
    "# Setting up the stream\n",
    "stream = SEAGenerator(classification_function = 2, random_state = 112, balance_classes = False, noise_percentage = 0.28)\n",
    "# Retrieving one sample\n",
    "stream.next_sample()\n"
   ]
  },
  {
   "cell_type": "code",
   "execution_count": 19,
   "id": "dcec8e70",
   "metadata": {},
   "outputs": [
    {
     "data": {
      "text/plain": [
       "(array([[5.49028718, 5.76899752, 5.48016258],\n",
       "        [6.32561481, 1.09143417, 1.14700015],\n",
       "        [3.77238494, 9.79060014, 7.13278994],\n",
       "        [9.00280923, 9.47375192, 8.29248557],\n",
       "        [6.53191565, 8.06505195, 1.01119543],\n",
       "        [2.32874828, 4.91965983, 3.6233728 ],\n",
       "        [2.00647257, 1.915817  , 3.96558916],\n",
       "        [2.02761619, 9.20171324, 4.85576757],\n",
       "        [1.11098558, 0.2036078 , 2.28046189],\n",
       "        [0.74285947, 4.98943131, 2.99900862]]),\n",
       " array([0, 1, 0, 0, 0, 0, 1, 0, 1, 1]))"
      ]
     },
     "execution_count": 19,
     "metadata": {},
     "output_type": "execute_result"
    }
   ],
   "source": [
    "# Retrieving 10 samples\n",
    "stream.next_sample(10)\n"
   ]
  },
  {
   "cell_type": "code",
   "execution_count": null,
   "id": "ca027cdb",
   "metadata": {},
   "outputs": [],
   "source": [
    "# Generators will have infinite remaining instances, so it returns -1\n",
    "stream.n_remaining_samples()\n",
    "stream.has_more_samples()"
   ]
  },
  {
   "cell_type": "code",
   "execution_count": null,
   "id": "b74bc484",
   "metadata": {},
   "outputs": [],
   "source": [
    "# Imports\n",
    "from skmultiflow.data import SEAGenerator\n",
    "from skmultiflow.trees import HoeffdingTreeClassifier\n",
    "# Setting up a data stream\n",
    "stream = SEAGenerator(random_state=1)\n",
    "# Setup Hoeffding Tree estimator\n",
    "ht = HoeffdingTreeClassifier()\n",
    "# Setup variables to control loop and track performance\n",
    "n_samples = 0\n",
    "correct_cnt = 0\n",
    "max_samples = 200\n",
    "# Train the estimator with the samples provided by the data stream\n",
    "while n_samples < max_samples and stream.has_more_samples():\n",
    "    X, y = stream.next_sample()\n",
    "    y_pred = ht.predict(X)\n",
    "    if y[0] == y_pred[0]:\n",
    "        correct_cnt += 1\n",
    "    ht = ht.partial_fit(X, y)\n",
    "    n_samples += 1\n",
    "# Display results\n",
    "print('{} samples analyzed.'.format(n_samples))\n",
    "print('Hoeffding Tree accuracy: {}'.format(correct_cnt / n_samples))"
   ]
  },
  {
   "cell_type": "code",
   "execution_count": null,
   "id": "d7b7759f",
   "metadata": {},
   "outputs": [],
   "source": []
  }
 ],
 "metadata": {
  "kernelspec": {
   "display_name": "Python 3 (ipykernel)",
   "language": "python",
   "name": "python3"
  },
  "language_info": {
   "codemirror_mode": {
    "name": "ipython",
    "version": 3
   },
   "file_extension": ".py",
   "mimetype": "text/x-python",
   "name": "python",
   "nbconvert_exporter": "python",
   "pygments_lexer": "ipython3",
   "version": "3.9.13"
  }
 },
 "nbformat": 4,
 "nbformat_minor": 5
}
